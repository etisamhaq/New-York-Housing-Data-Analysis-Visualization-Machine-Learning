{
 "cells": [
  {
   "cell_type": "markdown",
   "metadata": {},
   "source": [
    "# New York House Data "
   ]
  },
  {
   "cell_type": "code",
   "execution_count": 1,
   "metadata": {},
   "outputs": [],
   "source": [
    "import pandas as pd\n",
    "import numpy as np "
   ]
  },
  {
   "cell_type": "code",
   "execution_count": 28,
   "metadata": {},
   "outputs": [
    {
     "data": {
      "text/html": [
       "<div>\n",
       "<style scoped>\n",
       "    .dataframe tbody tr th:only-of-type {\n",
       "        vertical-align: middle;\n",
       "    }\n",
       "\n",
       "    .dataframe tbody tr th {\n",
       "        vertical-align: top;\n",
       "    }\n",
       "\n",
       "    .dataframe thead th {\n",
       "        text-align: right;\n",
       "    }\n",
       "</style>\n",
       "<table border=\"1\" class=\"dataframe\">\n",
       "  <thead>\n",
       "    <tr style=\"text-align: right;\">\n",
       "      <th></th>\n",
       "      <th>BROKERTITLE</th>\n",
       "      <th>TYPE</th>\n",
       "      <th>PRICE</th>\n",
       "      <th>BEDS</th>\n",
       "      <th>BATH</th>\n",
       "      <th>PROPERTYSQFT</th>\n",
       "      <th>ADDRESS</th>\n",
       "      <th>STATE</th>\n",
       "      <th>MAIN_ADDRESS</th>\n",
       "      <th>ADMINISTRATIVE_AREA_LEVEL_2</th>\n",
       "      <th>LOCALITY</th>\n",
       "      <th>SUBLOCALITY</th>\n",
       "      <th>STREET_NAME</th>\n",
       "      <th>LONG_NAME</th>\n",
       "      <th>FORMATTED_ADDRESS</th>\n",
       "      <th>LATITUDE</th>\n",
       "      <th>LONGITUDE</th>\n",
       "    </tr>\n",
       "  </thead>\n",
       "  <tbody>\n",
       "    <tr>\n",
       "      <th>0</th>\n",
       "      <td>Brokered by Douglas Elliman  -111 Fifth Ave</td>\n",
       "      <td>Condo for sale</td>\n",
       "      <td>315000</td>\n",
       "      <td>2</td>\n",
       "      <td>2.000000</td>\n",
       "      <td>1400.0</td>\n",
       "      <td>2 E 55th St Unit 803</td>\n",
       "      <td>New York, NY 10022</td>\n",
       "      <td>2 E 55th St Unit 803New York, NY 10022</td>\n",
       "      <td>New York County</td>\n",
       "      <td>New York</td>\n",
       "      <td>Manhattan</td>\n",
       "      <td>East 55th Street</td>\n",
       "      <td>Regis Residence</td>\n",
       "      <td>Regis Residence, 2 E 55th St #803, New York, N...</td>\n",
       "      <td>40.761255</td>\n",
       "      <td>-73.974483</td>\n",
       "    </tr>\n",
       "    <tr>\n",
       "      <th>1</th>\n",
       "      <td>Brokered by Serhant</td>\n",
       "      <td>Condo for sale</td>\n",
       "      <td>195000000</td>\n",
       "      <td>7</td>\n",
       "      <td>10.000000</td>\n",
       "      <td>17545.0</td>\n",
       "      <td>Central Park Tower Penthouse-217 W 57th New Yo...</td>\n",
       "      <td>New York, NY 10019</td>\n",
       "      <td>Central Park Tower Penthouse-217 W 57th New Yo...</td>\n",
       "      <td>United States</td>\n",
       "      <td>New York</td>\n",
       "      <td>New York County</td>\n",
       "      <td>New York</td>\n",
       "      <td>West 57th Street</td>\n",
       "      <td>217 W 57th St, New York, NY 10019, USA</td>\n",
       "      <td>40.766393</td>\n",
       "      <td>-73.980991</td>\n",
       "    </tr>\n",
       "    <tr>\n",
       "      <th>2</th>\n",
       "      <td>Brokered by Sowae Corp</td>\n",
       "      <td>House for sale</td>\n",
       "      <td>260000</td>\n",
       "      <td>4</td>\n",
       "      <td>2.000000</td>\n",
       "      <td>2015.0</td>\n",
       "      <td>620 Sinclair Ave</td>\n",
       "      <td>Staten Island, NY 10312</td>\n",
       "      <td>620 Sinclair AveStaten Island, NY 10312</td>\n",
       "      <td>United States</td>\n",
       "      <td>New York</td>\n",
       "      <td>Richmond County</td>\n",
       "      <td>Staten Island</td>\n",
       "      <td>Sinclair Avenue</td>\n",
       "      <td>620 Sinclair Ave, Staten Island, NY 10312, USA</td>\n",
       "      <td>40.541805</td>\n",
       "      <td>-74.196109</td>\n",
       "    </tr>\n",
       "    <tr>\n",
       "      <th>3</th>\n",
       "      <td>Brokered by COMPASS</td>\n",
       "      <td>Condo for sale</td>\n",
       "      <td>69000</td>\n",
       "      <td>3</td>\n",
       "      <td>1.000000</td>\n",
       "      <td>445.0</td>\n",
       "      <td>2 E 55th St Unit 908W33</td>\n",
       "      <td>Manhattan, NY 10022</td>\n",
       "      <td>2 E 55th St Unit 908W33Manhattan, NY 10022</td>\n",
       "      <td>United States</td>\n",
       "      <td>New York</td>\n",
       "      <td>New York County</td>\n",
       "      <td>New York</td>\n",
       "      <td>East 55th Street</td>\n",
       "      <td>2 E 55th St, New York, NY 10022, USA</td>\n",
       "      <td>40.761398</td>\n",
       "      <td>-73.974613</td>\n",
       "    </tr>\n",
       "    <tr>\n",
       "      <th>4</th>\n",
       "      <td>Brokered by Sotheby's International Realty - E...</td>\n",
       "      <td>Townhouse for sale</td>\n",
       "      <td>55000000</td>\n",
       "      <td>7</td>\n",
       "      <td>2.373861</td>\n",
       "      <td>14175.0</td>\n",
       "      <td>5 E 64th St</td>\n",
       "      <td>New York, NY 10065</td>\n",
       "      <td>5 E 64th StNew York, NY 10065</td>\n",
       "      <td>United States</td>\n",
       "      <td>New York</td>\n",
       "      <td>New York County</td>\n",
       "      <td>New York</td>\n",
       "      <td>East 64th Street</td>\n",
       "      <td>5 E 64th St, New York, NY 10065, USA</td>\n",
       "      <td>40.767224</td>\n",
       "      <td>-73.969856</td>\n",
       "    </tr>\n",
       "  </tbody>\n",
       "</table>\n",
       "</div>"
      ],
      "text/plain": [
       "                                         BROKERTITLE                TYPE  \\\n",
       "0        Brokered by Douglas Elliman  -111 Fifth Ave      Condo for sale   \n",
       "1                                Brokered by Serhant      Condo for sale   \n",
       "2                             Brokered by Sowae Corp      House for sale   \n",
       "3                                Brokered by COMPASS      Condo for sale   \n",
       "4  Brokered by Sotheby's International Realty - E...  Townhouse for sale   \n",
       "\n",
       "       PRICE  BEDS       BATH  PROPERTYSQFT  \\\n",
       "0     315000     2   2.000000        1400.0   \n",
       "1  195000000     7  10.000000       17545.0   \n",
       "2     260000     4   2.000000        2015.0   \n",
       "3      69000     3   1.000000         445.0   \n",
       "4   55000000     7   2.373861       14175.0   \n",
       "\n",
       "                                             ADDRESS                    STATE  \\\n",
       "0                               2 E 55th St Unit 803       New York, NY 10022   \n",
       "1  Central Park Tower Penthouse-217 W 57th New Yo...       New York, NY 10019   \n",
       "2                                   620 Sinclair Ave  Staten Island, NY 10312   \n",
       "3                            2 E 55th St Unit 908W33      Manhattan, NY 10022   \n",
       "4                                        5 E 64th St       New York, NY 10065   \n",
       "\n",
       "                                        MAIN_ADDRESS  \\\n",
       "0             2 E 55th St Unit 803New York, NY 10022   \n",
       "1  Central Park Tower Penthouse-217 W 57th New Yo...   \n",
       "2            620 Sinclair AveStaten Island, NY 10312   \n",
       "3         2 E 55th St Unit 908W33Manhattan, NY 10022   \n",
       "4                      5 E 64th StNew York, NY 10065   \n",
       "\n",
       "  ADMINISTRATIVE_AREA_LEVEL_2  LOCALITY      SUBLOCALITY       STREET_NAME  \\\n",
       "0             New York County  New York        Manhattan  East 55th Street   \n",
       "1               United States  New York  New York County          New York   \n",
       "2               United States  New York  Richmond County     Staten Island   \n",
       "3               United States  New York  New York County          New York   \n",
       "4               United States  New York  New York County          New York   \n",
       "\n",
       "          LONG_NAME                                  FORMATTED_ADDRESS  \\\n",
       "0   Regis Residence  Regis Residence, 2 E 55th St #803, New York, N...   \n",
       "1  West 57th Street             217 W 57th St, New York, NY 10019, USA   \n",
       "2   Sinclair Avenue     620 Sinclair Ave, Staten Island, NY 10312, USA   \n",
       "3  East 55th Street               2 E 55th St, New York, NY 10022, USA   \n",
       "4  East 64th Street               5 E 64th St, New York, NY 10065, USA   \n",
       "\n",
       "    LATITUDE  LONGITUDE  \n",
       "0  40.761255 -73.974483  \n",
       "1  40.766393 -73.980991  \n",
       "2  40.541805 -74.196109  \n",
       "3  40.761398 -73.974613  \n",
       "4  40.767224 -73.969856  "
      ]
     },
     "execution_count": 28,
     "metadata": {},
     "output_type": "execute_result"
    }
   ],
   "source": [
    "data=pd.read_csv('NY-House-Dataset.csv')\n",
    "data.head()"
   ]
  },
  {
   "cell_type": "code",
   "execution_count": 17,
   "metadata": {},
   "outputs": [
    {
     "name": "stdout",
     "output_type": "stream",
     "text": [
      "              PRICE         BEDS         BATH  PROPERTYSQFT     LATITUDE  \\\n",
      "count  4.801000e+03  4801.000000  4801.000000   4801.000000  4801.000000   \n",
      "mean   2.356940e+06     3.356801     2.373861   2184.207862    40.714227   \n",
      "std    3.135525e+07     2.602315     1.946962   2377.140894     0.087676   \n",
      "min    2.494000e+03     1.000000     0.000000    230.000000    40.499546   \n",
      "25%    4.990000e+05     2.000000     1.000000   1200.000000    40.639375   \n",
      "50%    8.250000e+05     3.000000     2.000000   2184.207862    40.726749   \n",
      "75%    1.495000e+06     4.000000     3.000000   2184.207862    40.771923   \n",
      "max    2.147484e+09    50.000000    50.000000  65535.000000    40.912729   \n",
      "\n",
      "         LONGITUDE  BROKERTITLE_Brokered by 1 Oak Real Estate Hub Inc  \\\n",
      "count  4801.000000                                        4801.000000   \n",
      "mean    -73.941601                                           0.000208   \n",
      "std       0.101082                                           0.014432   \n",
      "min     -74.253033                                           0.000000   \n",
      "25%     -73.987143                                           0.000000   \n",
      "50%     -73.949189                                           0.000000   \n",
      "75%     -73.870638                                           0.000000   \n",
      "max     -73.702450                                           1.000000   \n",
      "\n",
      "       BROKERTITLE_Brokered by 5 Boro Realty Corp  \\\n",
      "count                                 4801.000000   \n",
      "mean                                     0.003541   \n",
      "std                                      0.059406   \n",
      "min                                      0.000000   \n",
      "25%                                      0.000000   \n",
      "50%                                      0.000000   \n",
      "75%                                      0.000000   \n",
      "max                                      1.000000   \n",
      "\n",
      "       BROKERTITLE_Brokered by A J Realty Of Queens Inc  \\\n",
      "count                                       4801.000000   \n",
      "mean                                           0.000208   \n",
      "std                                            0.014432   \n",
      "min                                            0.000000   \n",
      "25%                                            0.000000   \n",
      "50%                                            0.000000   \n",
      "75%                                            0.000000   \n",
      "max                                            1.000000   \n",
      "\n",
      "       BROKERTITLE_Brokered by A P Services Inc  ...  SUBLOCALITY_New York  \\\n",
      "count                               4801.000000  ...           4801.000000   \n",
      "mean                                   0.000208  ...              0.211623   \n",
      "std                                    0.014432  ...              0.408501   \n",
      "min                                    0.000000  ...              0.000000   \n",
      "25%                                    0.000000  ...              0.000000   \n",
      "50%                                    0.000000  ...              0.000000   \n",
      "75%                                    0.000000  ...              0.000000   \n",
      "max                                    1.000000  ...              1.000000   \n",
      "\n",
      "       SUBLOCALITY_New York County  SUBLOCALITY_Queens  \\\n",
      "count                  4801.000000         4801.000000   \n",
      "mean                      0.059571            0.115601   \n",
      "std                       0.236715            0.319779   \n",
      "min                       0.000000            0.000000   \n",
      "25%                       0.000000            0.000000   \n",
      "50%                       0.000000            0.000000   \n",
      "75%                       0.000000            0.000000   \n",
      "max                       1.000000            1.000000   \n",
      "\n",
      "       SUBLOCALITY_Queens County  SUBLOCALITY_Rego Park  \\\n",
      "count                4801.000000            4801.000000   \n",
      "mean                    0.142470               0.000208   \n",
      "std                     0.349568               0.014432   \n",
      "min                     0.000000               0.000000   \n",
      "25%                     0.000000               0.000000   \n",
      "50%                     0.000000               0.000000   \n",
      "75%                     0.000000               0.000000   \n",
      "max                     1.000000               1.000000   \n",
      "\n",
      "       SUBLOCALITY_Richmond County  SUBLOCALITY_Riverdale  \\\n",
      "count                  4801.000000            4801.000000   \n",
      "mean                      0.099979               0.000833   \n",
      "std                       0.300003               0.028855   \n",
      "min                       0.000000               0.000000   \n",
      "25%                       0.000000               0.000000   \n",
      "50%                       0.000000               0.000000   \n",
      "75%                       0.000000               0.000000   \n",
      "max                       1.000000               1.000000   \n",
      "\n",
      "       SUBLOCALITY_Snyder Avenue  SUBLOCALITY_Staten Island  \\\n",
      "count                4801.000000                4801.000000   \n",
      "mean                    0.000208                   0.012289   \n",
      "std                     0.014432                   0.110184   \n",
      "min                     0.000000                   0.000000   \n",
      "25%                     0.000000                   0.000000   \n",
      "50%                     0.000000                   0.000000   \n",
      "75%                     0.000000                   0.000000   \n",
      "max                     1.000000                   1.000000   \n",
      "\n",
      "       SUBLOCALITY_The Bronx  \n",
      "count            4801.000000  \n",
      "mean                0.038325  \n",
      "std                 0.192001  \n",
      "min                 0.000000  \n",
      "25%                 0.000000  \n",
      "50%                 0.000000  \n",
      "75%                 0.000000  \n",
      "max                 1.000000  \n",
      "\n",
      "[8 rows x 1424 columns]\n"
     ]
    }
   ],
   "source": [
    "print(data.describe())"
   ]
  },
  {
   "cell_type": "code",
   "execution_count": 18,
   "metadata": {},
   "outputs": [
    {
     "name": "stdout",
     "output_type": "stream",
     "text": [
      "PRICE                          0\n",
      "BEDS                           0\n",
      "BATH                           0\n",
      "PROPERTYSQFT                   0\n",
      "ADDRESS                        0\n",
      "                              ..\n",
      "SUBLOCALITY_Richmond County    0\n",
      "SUBLOCALITY_Riverdale          0\n",
      "SUBLOCALITY_Snyder Avenue      0\n",
      "SUBLOCALITY_Staten Island      0\n",
      "SUBLOCALITY_The Bronx          0\n",
      "Length: 1429, dtype: int64\n"
     ]
    }
   ],
   "source": [
    "# Check for missing values\n",
    "print(data.isnull().sum())"
   ]
  },
  {
   "cell_type": "markdown",
   "metadata": {},
   "source": [
    "# Exploratory Data Analysis (EDA)"
   ]
  },
  {
   "cell_type": "code",
   "execution_count": 19,
   "metadata": {},
   "outputs": [
    {
     "name": "stdout",
     "output_type": "stream",
     "text": [
      "Descriptive Statistics:\n",
      "              PRICE         BEDS         BATH  PROPERTYSQFT     LATITUDE  \\\n",
      "count  4.801000e+03  4801.000000  4801.000000   4801.000000  4801.000000   \n",
      "mean   2.356940e+06     3.356801     2.373861   2184.207862    40.714227   \n",
      "std    3.135525e+07     2.602315     1.946962   2377.140894     0.087676   \n",
      "min    2.494000e+03     1.000000     0.000000    230.000000    40.499546   \n",
      "25%    4.990000e+05     2.000000     1.000000   1200.000000    40.639375   \n",
      "50%    8.250000e+05     3.000000     2.000000   2184.207862    40.726749   \n",
      "75%    1.495000e+06     4.000000     3.000000   2184.207862    40.771923   \n",
      "max    2.147484e+09    50.000000    50.000000  65535.000000    40.912729   \n",
      "\n",
      "         LONGITUDE  BROKERTITLE_Brokered by 1 Oak Real Estate Hub Inc  \\\n",
      "count  4801.000000                                        4801.000000   \n",
      "mean    -73.941601                                           0.000208   \n",
      "std       0.101082                                           0.014432   \n",
      "min     -74.253033                                           0.000000   \n",
      "25%     -73.987143                                           0.000000   \n",
      "50%     -73.949189                                           0.000000   \n",
      "75%     -73.870638                                           0.000000   \n",
      "max     -73.702450                                           1.000000   \n",
      "\n",
      "       BROKERTITLE_Brokered by 5 Boro Realty Corp  \\\n",
      "count                                 4801.000000   \n",
      "mean                                     0.003541   \n",
      "std                                      0.059406   \n",
      "min                                      0.000000   \n",
      "25%                                      0.000000   \n",
      "50%                                      0.000000   \n",
      "75%                                      0.000000   \n",
      "max                                      1.000000   \n",
      "\n",
      "       BROKERTITLE_Brokered by A J Realty Of Queens Inc  \\\n",
      "count                                       4801.000000   \n",
      "mean                                           0.000208   \n",
      "std                                            0.014432   \n",
      "min                                            0.000000   \n",
      "25%                                            0.000000   \n",
      "50%                                            0.000000   \n",
      "75%                                            0.000000   \n",
      "max                                            1.000000   \n",
      "\n",
      "       BROKERTITLE_Brokered by A P Services Inc  ...  SUBLOCALITY_New York  \\\n",
      "count                               4801.000000  ...           4801.000000   \n",
      "mean                                   0.000208  ...              0.211623   \n",
      "std                                    0.014432  ...              0.408501   \n",
      "min                                    0.000000  ...              0.000000   \n",
      "25%                                    0.000000  ...              0.000000   \n",
      "50%                                    0.000000  ...              0.000000   \n",
      "75%                                    0.000000  ...              0.000000   \n",
      "max                                    1.000000  ...              1.000000   \n",
      "\n",
      "       SUBLOCALITY_New York County  SUBLOCALITY_Queens  \\\n",
      "count                  4801.000000         4801.000000   \n",
      "mean                      0.059571            0.115601   \n",
      "std                       0.236715            0.319779   \n",
      "min                       0.000000            0.000000   \n",
      "25%                       0.000000            0.000000   \n",
      "50%                       0.000000            0.000000   \n",
      "75%                       0.000000            0.000000   \n",
      "max                       1.000000            1.000000   \n",
      "\n",
      "       SUBLOCALITY_Queens County  SUBLOCALITY_Rego Park  \\\n",
      "count                4801.000000            4801.000000   \n",
      "mean                    0.142470               0.000208   \n",
      "std                     0.349568               0.014432   \n",
      "min                     0.000000               0.000000   \n",
      "25%                     0.000000               0.000000   \n",
      "50%                     0.000000               0.000000   \n",
      "75%                     0.000000               0.000000   \n",
      "max                     1.000000               1.000000   \n",
      "\n",
      "       SUBLOCALITY_Richmond County  SUBLOCALITY_Riverdale  \\\n",
      "count                  4801.000000            4801.000000   \n",
      "mean                      0.099979               0.000833   \n",
      "std                       0.300003               0.028855   \n",
      "min                       0.000000               0.000000   \n",
      "25%                       0.000000               0.000000   \n",
      "50%                       0.000000               0.000000   \n",
      "75%                       0.000000               0.000000   \n",
      "max                       1.000000               1.000000   \n",
      "\n",
      "       SUBLOCALITY_Snyder Avenue  SUBLOCALITY_Staten Island  \\\n",
      "count                4801.000000                4801.000000   \n",
      "mean                    0.000208                   0.012289   \n",
      "std                     0.014432                   0.110184   \n",
      "min                     0.000000                   0.000000   \n",
      "25%                     0.000000                   0.000000   \n",
      "50%                     0.000000                   0.000000   \n",
      "75%                     0.000000                   0.000000   \n",
      "max                     1.000000                   1.000000   \n",
      "\n",
      "       SUBLOCALITY_The Bronx  \n",
      "count            4801.000000  \n",
      "mean                0.038325  \n",
      "std                 0.192001  \n",
      "min                 0.000000  \n",
      "25%                 0.000000  \n",
      "50%                 0.000000  \n",
      "75%                 0.000000  \n",
      "max                 1.000000  \n",
      "\n",
      "[8 rows x 1424 columns]\n"
     ]
    }
   ],
   "source": [
    "# Basic statistical analysis\n",
    "print(\"Descriptive Statistics:\")\n",
    "print(data.describe())"
   ]
  },
  {
   "cell_type": "code",
   "execution_count": 20,
   "metadata": {},
   "outputs": [
    {
     "name": "stdout",
     "output_type": "stream",
     "text": [
      "\n",
      "Measures of Central Tendency:\n",
      "Mean Price: 2356940.17100604\n",
      "Median Price: 825000.0\n",
      "Mode of Beds: 3\n"
     ]
    }
   ],
   "source": [
    "# Measures of central tendency\n",
    "print(\"\\nMeasures of Central Tendency:\")\n",
    "print(\"Mean Price:\", data['PRICE'].mean())\n",
    "print(\"Median Price:\", data['PRICE'].median())\n",
    "print(\"Mode of Beds:\", data['BEDS'].mode()[0])"
   ]
  },
  {
   "cell_type": "code",
   "execution_count": 21,
   "metadata": {},
   "outputs": [
    {
     "name": "stdout",
     "output_type": "stream",
     "text": [
      "\n",
      "Measures of Dispersion:\n",
      "Price Range: 2147481153\n",
      "Standard Deviation of Property SqFt: 2377.140893559752\n"
     ]
    }
   ],
   "source": [
    "# Measures of dispersion\n",
    "print(\"\\nMeasures of Dispersion:\")\n",
    "print(\"Price Range:\", data['PRICE'].max() - data['PRICE'].min())\n",
    "print(\"Standard Deviation of Property SqFt:\", data['PROPERTYSQFT'].std())"
   ]
  },
  {
   "cell_type": "code",
   "execution_count": 22,
   "metadata": {},
   "outputs": [
    {
     "name": "stdout",
     "output_type": "stream",
     "text": [
      "\n",
      "Correlation Analysis:\n",
      "                 PRICE  PROPERTYSQFT      BEDS      BATH\n",
      "PRICE         1.000000      0.110889  0.052189  0.079371\n",
      "PROPERTYSQFT  0.110889      1.000000  0.420503  0.483935\n",
      "BEDS          0.052189      0.420503  1.000000  0.776447\n",
      "BATH          0.079371      0.483935  0.776447  1.000000\n"
     ]
    }
   ],
   "source": [
    "# Correlation analysis\n",
    "print(\"\\nCorrelation Analysis:\")\n",
    "print(data[['PRICE', 'PROPERTYSQFT', 'BEDS', 'BATH']].corr()) "
   ]
  },
  {
   "cell_type": "code",
   "execution_count": 42,
   "metadata": {},
   "outputs": [
    {
     "name": "stdout",
     "output_type": "stream",
     "text": [
      "                     STATE  STATE1\n",
      "0       New York, NY 10022       0\n",
      "1       New York, NY 10019       1\n",
      "2  Staten Island, NY 10312       2\n",
      "3      Manhattan, NY 10022       3\n",
      "4       New York, NY 10065       4\n"
     ]
    }
   ],
   "source": [
    "# Convert 'STATE' column to numerical values\n",
    "data['STATE1']=pd.factorize(data['STATE'])[0]\n",
    "\n",
    "# Print the updated DataFrame\n",
    "print(data[['STATE','STATE1']].head())"
   ]
  },
  {
   "cell_type": "code",
   "execution_count": 43,
   "metadata": {},
   "outputs": [
    {
     "name": "stdout",
     "output_type": "stream",
     "text": [
      "\n",
      "Meaningful Insights:\n",
      "Top 5 States with Highest Average Price:\n",
      "STATE\n",
      "New York, NY 10309     2.147484e+09\n",
      "Manhattan, NY 10013    1.296533e+07\n",
      "New York, NY 10013     1.112812e+07\n",
      "New York, NY 10011     9.810750e+06\n",
      "Manhattan, NY 10075    9.189462e+06\n",
      "Name: PRICE, dtype: float64\n",
      "\n",
      "Property Types with Largest Total Beds:\n",
      "TYPE\n",
      "Multi-family home for sale    4530\n",
      "House for sale                3783\n",
      "Co-op for sale                2871\n",
      "Name: BEDS, dtype: int64\n",
      "\n",
      "Localities with Highest Median Property SqFt:\n",
      "LOCALITY\n",
      "New York           2184.207862\n",
      "New York County    2184.207862\n",
      "Queens County      2184.207862\n",
      "United States      2184.207862\n",
      "Queens             1692.103931\n",
      "Name: PROPERTYSQFT, dtype: float64\n"
     ]
    }
   ],
   "source": [
    "# Extracting meaningful insights\n",
    "print(\"\\nMeaningful Insights:\")\n",
    "print(\"Top 5 States with Highest Average Price:\")\n",
    "print(data.groupby('STATE')['PRICE'].mean().nlargest(5))\n",
    "\n",
    "print(\"\\nProperty Types with Largest Total Beds:\")\n",
    "print(data.groupby('TYPE')['BEDS'].sum().nlargest(3))\n",
    "\n",
    "print(\"\\nLocalities with Highest Median Property SqFt:\")\n",
    "print(data.groupby('LOCALITY')['PROPERTYSQFT'].median().nlargest(5))"
   ]
  },
  {
   "cell_type": "markdown",
   "metadata": {},
   "source": [
    "# Data Visualization"
   ]
  },
  {
   "cell_type": "code",
   "execution_count": 44,
   "metadata": {},
   "outputs": [
    {
     "data": {
      "image/png": "[encoded data removed]",
      "text/plain": [
       "<Figure size 1000x600 with 2 Axes>"
      ]
     },
     "metadata": {},
     "output_type": "display_data"
    }
   ],
   "source": [
    "import matplotlib.pyplot as plt\n",
    "import seaborn as sns\n",
    "\n",
    "# Histograms\n",
    "plt.figure(figsize=(10, 6))\n",
    "plt.subplot(2, 2, 1)\n",
    "sns.histplot(data['PRICE'], bins=20, kde=True)\n",
    "plt.title('Distribution of Price')\n",
    "plt.xlabel('Price')\n",
    "plt.ylabel('Count')\n",
    "\n",
    "plt.subplot(2, 2, 2)\n",
    "sns.histplot(data['PROPERTYSQFT'], bins=20, kde=True)\n",
    "plt.title('Distribution of Property SqFt')\n",
    "plt.xlabel('Property SqFt')\n",
    "plt.ylabel('Count')\n",
    "\n",
    "plt.tight_layout()\n",
    "plt.show()"
   ]
  },
  {
   "cell_type": "code",
   "execution_count": 48,
   "metadata": {},
   "outputs": [
    {
     "data": {
      "image/png": "[encoded data removed]",
      "text/plain": [
       "<Figure size 1000x600 with 1 Axes>"
      ]
     },
     "metadata": {},
     "output_type": "display_data"
    }
   ],
   "source": [
    "# Box plots\n",
    "plt.figure(figsize=(10, 6))\n",
    "plt.subplot(1, 2, 1)\n",
    "sns.boxplot(x='TYPE', y='PRICE', data=data)\n",
    "plt.title('Price Distribution by Property Type')\n",
    "plt.xlabel('Property Type')\n",
    "plt.ylabel('Price')\n",
    "plt.xticks(rotation=90)\n",
    "\n",
    "\n",
    "plt.tight_layout()\n",
    "plt.show()"
   ]
  },
  {
   "cell_type": "code",
   "execution_count": 59,
   "metadata": {},
   "outputs": [
    {
     "data": {
      "image/png": "[encoded data removed]",
      "text/plain": [
       "<Figure size 800x600 with 2 Axes>"
      ]
     },
     "metadata": {},
     "output_type": "display_data"
    }
   ],
   "source": [
    "# Correlation matrix\n",
    "plt.figure(figsize=(8, 6))\n",
    "sns.heatmap(data[['PRICE', 'PROPERTYSQFT', 'BEDS', 'BATH']].corr(), annot=True, cmap='coolwarm')\n",
    "plt.title('Correlation Matrix')\n",
    "plt.show()"
   ]
  },
  {
   "cell_type": "code",
   "execution_count": 49,
   "metadata": {},
   "outputs": [
    {
     "data": {
      "image/png": "[encoded data removed]",
      "text/plain": [
       "<Figure size 800x600 with 1 Axes>"
      ]
     },
     "metadata": {},
     "output_type": "display_data"
    }
   ],
   "source": [
    "# Scatter plots\n",
    "plt.figure(figsize=(8, 6))\n",
    "sns.scatterplot(x='PROPERTYSQFT', y='PRICE', data=data)\n",
    "plt.title('Relationship between Property SqFt and Price')\n",
    "plt.xlabel('Property SqFt')\n",
    "plt.ylabel('Price')\n",
    "plt.show()\n",
    "\n"
   ]
  },
  {
   "cell_type": "code",
   "execution_count": null,
   "metadata": {},
   "outputs": [],
   "source": []
  },
  {
   "cell_type": "markdown",
   "metadata": {},
   "source": [
    "# Hypothesis Testing"
   ]
  },
  {
   "cell_type": "markdown",
   "metadata": {},
   "source": [
    "## Hypothesis 1:\n",
    "\n",
    "Null Hypothesis (H0): The distribution of property types (e.g., Apartment, House) is independent of the state.\n",
    "\n",
    "Alternative Hypothesis (H1): The distribution of property types is dependent on the state."
   ]
  },
  {
   "cell_type": "code",
   "execution_count": 53,
   "metadata": {},
   "outputs": [
    {
     "name": "stdout",
     "output_type": "stream",
     "text": [
      "Chi-Square Statistic: 10282.282881859686\n",
      "P-Value: 0.0\n",
      "Reject the null hypothesis. The distribution of property types is dependent on the state.\n"
     ]
    }
   ],
   "source": [
    "from scipy import stats\n",
    "# Create a contingency table\n",
    "contingency_table = pd.crosstab(data['STATE'], data['TYPE'])\n",
    "\n",
    "# Perform the chi-square test\n",
    "chi2, p_value, _, _ = stats.chi2_contingency(contingency_table)\n",
    "\n",
    "print(\"Chi-Square Statistic:\", chi2)\n",
    "print(\"P-Value:\", p_value)\n",
    "\n",
    "# Interpret the results\n",
    "alpha = 0.05  # Significance level\n",
    "if p_value < alpha:\n",
    "    print(\"Reject the null hypothesis. The distribution of property types is dependent on the state.\")\n",
    "else:\n",
    "    print(\"Fail to reject the null hypothesis. The distribution of property types is independent of the state.\")"
   ]
  },
  {
   "cell_type": "markdown",
   "metadata": {},
   "source": [
    "## Hypothesis 2:\n",
    "\n",
    "Null Hypothesis (H0): There is no significant correlation between the property square footage (PROPERTYSQFT) and the price (PRICE).\n",
    "\n",
    "Alternative Hypothesis (H1): There is a significant correlation between the property square footage and the price."
   ]
  },
  {
   "cell_type": "code",
   "execution_count": 55,
   "metadata": {},
   "outputs": [
    {
     "name": "stdout",
     "output_type": "stream",
     "text": [
      "Pearson's Correlation Coefficient: 0.1108887685089013\n",
      "P-Value: 1.3066820107695186e-14\n",
      "Reject the null hypothesis. There is a significant correlation between property square footage and price.\n"
     ]
    }
   ],
   "source": [
    "# Extract the property square footage and price columns\n",
    "propertysqft = data['PROPERTYSQFT']\n",
    "price = data['PRICE']\n",
    "\n",
    "# Perform Pearson's correlation test\n",
    "correlation_coef, p_value = stats.pearsonr(propertysqft, price)\n",
    "\n",
    "print(\"Pearson's Correlation Coefficient:\", correlation_coef)\n",
    "print(\"P-Value:\", p_value)\n",
    "\n",
    "# Interpret the results\n",
    "alpha = 0.05  # Significance level\n",
    "if p_value < alpha:\n",
    "    print(\"Reject the null hypothesis. There is a significant correlation between property square footage and price.\")\n",
    "else:\n",
    "    print(\"Fail to reject the null hypothesis. There is no significant correlation between property square footage and price.\")"
   ]
  },
  {
   "cell_type": "markdown",
   "metadata": {},
   "source": [
    "# Machine Learning"
   ]
  },
  {
   "cell_type": "code",
   "execution_count": 56,
   "metadata": {},
   "outputs": [
    {
     "name": "stdout",
     "output_type": "stream",
     "text": [
      "Mean Squared Error (MSE): 19274550561929.066\n",
      "R-squared (R2): 0.23498006401795135\n",
      "Linear Regression Results:\n",
      "The model explains 23.50% of the variance in the price.\n",
      "The average squared difference between the predicted and actual prices is: 19274550561929.066\n"
     ]
    }
   ],
   "source": [
    "from sklearn.model_selection import train_test_split\n",
    "from sklearn.linear_model import LinearRegression\n",
    "from sklearn.metrics import mean_squared_error, r2_score\n",
    "\n",
    "\n",
    "# Select relevant features and target variable\n",
    "features = ['PROPERTYSQFT', 'BEDS', 'BATH', 'STATE1']\n",
    "target = 'PRICE'\n",
    "\n",
    "# Split the data into training and testing sets\n",
    "X_train, X_test, y_train, y_test = train_test_split(data[features], data[target], test_size=0.2, random_state=42)\n",
    "\n",
    "# Create and train the linear regression model\n",
    "model = LinearRegression()\n",
    "model.fit(X_train, y_train)\n",
    "\n",
    "# Make predictions on the testing set\n",
    "y_pred = model.predict(X_test)\n",
    "\n",
    "# Evaluate the model\n",
    "mse = mean_squared_error(y_test, y_pred)\n",
    "r2 = r2_score(y_test, y_pred)\n",
    "\n",
    "print(\"Mean Squared Error (MSE):\", mse)\n",
    "print(\"R-squared (R2):\", r2)\n",
    "\n",
    "# Interpret the results\n",
    "print(\"Linear Regression Results:\")\n",
    "print(\"The model explains {:.2%} of the variance in the price.\".format(r2))\n",
    "print(\"The average squared difference between the predicted and actual prices is:\", mse)"
   ]
  },
  {
   "cell_type": "code",
   "execution_count": 58,
   "metadata": {},
   "outputs": [
    {
     "name": "stdout",
     "output_type": "stream",
     "text": [
      "Accuracy: 0.7898022892819979\n",
      "The confusion matrix shows the number of correct and incorrect predictions.\n",
      "Confusion Matrix:\n",
      " [[407  87]\n",
      " [115 352]]\n",
      "Logistic Regression Results:\n",
      "The model accurately predicts whether a property is expensive or not with an accuracy of 78.98%.\n"
     ]
    }
   ],
   "source": [
    "import pandas as pd\n",
    "from sklearn.model_selection import train_test_split\n",
    "from sklearn.linear_model import LogisticRegression\n",
    "from sklearn.metrics import accuracy_score, confusion_matrix\n",
    "\n",
    "# Create a binary target variable indicating whether a property is expensive or not\n",
    "data['IS_EXPENSIVE'] = (data['PRICE'] > data['PRICE'].median()).astype(int)\n",
    "\n",
    "# Select relevant features and target variable\n",
    "features = ['PROPERTYSQFT', 'BEDS', 'BATH', 'STATE1']\n",
    "target = 'IS_EXPENSIVE'\n",
    "\n",
    "# Split the data into training and testing sets\n",
    "X_train, X_test, y_train, y_test = train_test_split(data[features], data[target], test_size=0.2, random_state=42)\n",
    "\n",
    "# Create and train the logistic regression model\n",
    "model = LogisticRegression()\n",
    "model.fit(X_train, y_train)\n",
    "\n",
    "# Make predictions on the testing set\n",
    "y_pred = model.predict(X_test)\n",
    "\n",
    "# Evaluate the model\n",
    "accuracy = accuracy_score(y_test, y_pred)\n",
    "confusion = confusion_matrix(y_test, y_pred)\n",
    "\n",
    "print(\"Accuracy:\", accuracy)\n",
    "print(\"The confusion matrix shows the number of correct and incorrect predictions.\")\n",
    "print(\"Confusion Matrix:\\n\", confusion)\n",
    "\n",
    "# Interpret the results\n",
    "print(\"Logistic Regression Results:\")\n",
    "print(\"The model accurately predicts whether a property is expensive or not with an accuracy of {:.2%}.\".format(accuracy))\n"
   ]
  },
  {
   "cell_type": "code",
   "execution_count": null,
   "metadata": {},
   "outputs": [],
   "source": []
  }
 ],
 "metadata": {
  "kernelspec": {
   "display_name": "Python 3",
   "language": "python",
   "name": "python3"
  },
  "language_info": {
   "codemirror_mode": {
    "name": "ipython",
    "version": 3
   },
   "file_extension": ".py",
   "mimetype": "text/x-python",
   "name": "python",
   "nbconvert_exporter": "python",
   "pygments_lexer": "ipython3",
   "version": "3.10.2"
  }
 },
 "nbformat": 4,
 "nbformat_minor": 2
}
